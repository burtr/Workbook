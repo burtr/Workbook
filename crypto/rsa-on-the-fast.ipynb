{
 "cells": [
  {
   "cell_type": "markdown",
   "id": "9ab3e5a8-78ba-46ab-b815-2d7d9d4cddb2",
   "metadata": {},
   "source": [
    "## Quick Fix for RSA\n",
    "\n",
    "Burton Rosenberg\n",
    "\n",
    "12 November 2021\n",
    "\n",
    "\n",
    "1. __Notation:__\n",
    "   1. I will generally not write $\\pmod n$ when working in the modular system.\n",
    "We are working in some number system, and for me, a tag notation does not emphasize that enough.\n",
    "That is, it is not one certain line that is \"mod p\", it is the entire setup. \n",
    "   1. Hopefully I will make it clear which particular number system is being used.\n",
    "   1. Also, I write simply $(a,b)$ for $\\mbox{gcd}(a,b)$.\n",
    "\n",
    "1. __Bezouts Theorem:__ $\\forall a,n \\in \\mathcal{Z},\\; \\exists s,t\\in \\mathcal{Z}\\; \\mbox{ s.t. } s \\,a + t\\, n = (a,n)$.\n",
    "\n",
    "   1. There is an efficient algorithm for computing $s, t$ given $a, n$.\n",
    "   1. The group of units is defined as $\\mathcal{Z}_n^* = \\{\\,a\\in\\mathcal{Z_n}\\,|\\, \\exists\\, b: b\\,a = 1\\,\\}$.\n",
    "   1. The group of units is categorized as those numbers relatively prime to $n$, $(a,n)=1 \\implies \\exists\\,s,t: \\; a\\, s + n\\,t = 1\\implies s\\,a = 1 \\pmod{b}$.\n",
    "   1. Given $a\\in\\mathcal{Z}_n^*$ being invertible, the map $a(x)\\mapsto a\\,x$ is a permutation on $\\mathcal{Z}_n$. \n",
    "   1. _Little Fermat:_ Let $\\phi(n)=|\\,\\mathcal{Z}_n^*\\,|$. Then $\\Pi_{x\\in\\mathcal{Z}_n^*} x = \\Pi_{a\\in\\mathcal{Z}_n^*} a\\,x = a^{\\phi(n)} \\Pi_{x\\in\\mathcal{Z}_n^*} x \\implies a^{\\phi(n)} =1$.\n",
    "   1. __Note:__ Little Fermat says that every unit is a $\\phi(n)$ root of unity, but perhaps not stictly so. For instance, $1^{\\phi(n)}=1$. But there are elements such for no lesser power than $\\phi(n)$ does the element power to 1.\n",
    "\n",
    "1. __Euler Totient:__ Define $\\phi(n)=|\\,\\mathcal{Z}_n^*\\,|$,\n",
    "\n",
    "   1. For $p$ a prime, $\\phi(p)=p-1$.\n",
    "   1. For distinct primes, $p, q$, counting gives $\\phi(pq) = pq - p - q + 1 = (p-1)(q-1)$. Of the $pq-1$ numbers, the $p-1$ multiples of $q$ are removed, as the $q-1$ multiples of $p$.\n",
    "   1. While this is sufficient for our purposes, in general $\\forall a, b\\in \\mathcal{Z}, (a,b)=1: \\phi(a\\,b) = \\phi(a)\\,\\phi(b)$.\n",
    "   1. Given $n$ and $\\phi(n)$, then $p+q = n+1-\\phi(n)$. The factors $p, q$ are then the roots of the quadraic $(x-p)(x-q)=0$. This form is expressable in $n$ and $\\phi(n)$. Therefore, given $n, \\phi(n)$ we easily compute the factors $p, q$ using the quadratic formula.\n",
    "   \n",
    "1. __RSA:__ Let $p, q\\in\\mathcal{Z}$ be distinct primes and publish $n=p\\,q$. \n",
    "   1. Choose and publish $e\\in\\mathcal{Z}_{\\phi(n)}^*$. \n",
    "   1. Secretly compute $d=e^{-1}\\pmod{\\phi(n)}$. \n",
    "   1. For a message $m\\in\\mathcal{Z}_n$, the encryption is $c = m^e\\pmod{n}$. \n",
    "   1. The decryption of $c$ is $m=c^d\\pmod{n}$.\n",
    "   1. Proof: $(m^e)^d=m^{k\\phi(n)+1} = (m^{\\phi(n)})^k\\,m = 1 \\pmod{n}$.\n",
    "   1. _Note well:_ The messages are encrypted in arithmetic mod $n$, but the decryption exponent is calculated in arithmetic $\\phi(n)$.\n",
    " \n",
    "1. __Security of RSA:__ To keep $d$ a secret, $\\phi(n)$ must not be known. It is therefore necessary that the factors of $n$ not be known. We have seen above, that knowing $\\phi(n)$ and $n$ gives the factors of $n$, so either we factor $n$ or we know $\\phi(n)$ by some other way. \n",
    "   1. However, perhaps $d$ can be known with $\\phi(n)$ being known.\n",
    "   1. In $\\mathcal{Z}_n^*$, with $n$ the product of two distint primes, there are four solutions to $x^2=1$.\n",
    "   1. Given the relation $x\\,p+y\\,q=1$, the square is also equal to one, there are no middle terms mod $n$, and the outer terms are invarient with the signs of $x$ and $y$. Hence $\\zeta=x\\,p-y\\,q$ is a non-trival square root of 1 mod $pq$ (as would be $-\\zeta$).\n",
    "   1. Note this interesting property of the non-trivial square root. That $\\zeta+1=x\\,p-y\\,q+1= x\\,p-y\\,q+x\\,p+y\\,q=2x\\,p$, and $\\zeta-1 = x\\,p-y\\,q-1= x\\,p-y\\,q-x\\,p-y\\,q=-2y\\,q$.\n",
    "   1. Continuing, so $(\\zeta+1,pq)=p$ and $(\\zeta-1,pq)=q$. The cases that say $(\\zeta+1,pq)=pq$ or $(\\zeta-1,pq)=pq$ are eliminated by $p, q$ being odd.\n",
    "   1. The typical demonstration is to consider solutions to $x^2-1=(x+1)(x-1)=0\\pmod{n}$. If this congruence is because of divisors of zero (two non-zeros that multiply to a zero), then on of the terms is a multiple of $p$, and the other a multiple of $q$. I just find it interesting to reverse the logic, and pose $x$ as the middle number between a multiple of $p$ and a multiple of $q$ separated by 2.\n",
    "   1. If $x$ is a square root of $y$, then so are $x, -1x \\zeta x, -\\zeta x$. In this group, a number has either no square roots, or 4 square roots.\n",
    "   1. This proves that there are at least 4 square roots of 1 mod $n$, and if $p$ and $q$ are known, gives an efficient way to compute a pair of non-trival square roots.\n",
    "\n",
    "   1. Suppose a decryption exponent $d$ is found out, by any method. Then $\\forall x\\in\\mathcal{Z}_n^*: x^{ed-1}=1$. \n",
    "   1. Write $ed-1 = 2^st$. For $u=2^{s-1}t: x^u$ is a square root of 1. \n",
    "   1. This power can be easily calculated for various $x$ until a non-trivial square root is found. Then $n$ is factored."
   ]
  },
  {
   "cell_type": "code",
   "execution_count": 15,
   "id": "20d0c87f-7e5f-41c4-a644-5ccd8e81a7c0",
   "metadata": {},
   "outputs": [],
   "source": [
    "class RSA:\n",
    "    \n",
    "    def __init__(self,p,q):\n",
    "        self.p = p\n",
    "        self.q = q\n",
    "        self.n = p*q\n",
    "        self.phi = (p-1)*(q-1)\n",
    "        self.gen_exponents(3)\n",
    "\n",
    "    def get_public_key(self):\n",
    "        return (self.n,self.e)\n",
    "    \n",
    "    def get_private_key(self):\n",
    "        return (self.n,self.d)\n",
    "                        \n",
    "    def get_secrets(self):\n",
    "        return (self.p,self.q,self.phi)\n",
    "                        \n",
    "    def extended_gcd(self,a,b):\n",
    "        \"\"\"\n",
    "        extended GCD algorithm. recursive. returns (d,s,t) \n",
    "        where d = s*a+t*b and d = gcd(a,b)\n",
    "        \"\"\"\n",
    "        assert(\n",
    "            a>=0 and b>=0 )\n",
    "        if b==0:\n",
    "            return (a,1,0)\n",
    "        (q,r) = divmod(a,b)\n",
    "        (d,s,t) = self.extended_gcd(b,r)\n",
    "        # gcd(a, b) == gcd(b, r) == s*b + t*r == s*b + t*(a - q*b)\n",
    "        return (d,t,s-q*t)\n",
    "\n",
    "    def invert_n(self,x):\n",
    "        (d,t,s) = self.extended_gcd(x,self.n)\n",
    "        assert d==1\n",
    "        return t%self.n\n",
    "\n",
    "    def is_unit_n(self,x):\n",
    "        (d,t,s) = self.extended_gcd(x,self.n)\n",
    "        return d==1\n",
    "    \n",
    "    def invert_phi(self,x):\n",
    "        (d,t,s) = self.extended_gcd(x,self.phi)\n",
    "        assert d==1\n",
    "        return t%self.phi\n",
    "\n",
    "    def is_unit_phi(self,x):\n",
    "        (d,t,s) = self.extended_gcd(x,self.phi)\n",
    "        return d==1\n",
    "    \n",
    "    def exp(self,a,n):\n",
    "        if n==0:\n",
    "            return (1,0)\n",
    "        if n==1:\n",
    "            return a\n",
    "        if n%2==0:\n",
    "            c = self.exp(a,n//2)\n",
    "            return c*c%self.n\n",
    "        c = self.exp(a,n-1)\n",
    "        return a*c%self.n\n",
    " \n",
    "    def gen_exponents(self,smallest_e):\n",
    "        for e in range(smallest_e,self.n):\n",
    "            if self.is_unit_phi(e):\n",
    "                d = self.invert_phi(e)\n",
    "                break\n",
    "        self.e = e%self.phi\n",
    "        self.d = d%self.phi\n",
    "        return (self.e,self.d)\n",
    "                \n",
    "    def encrypt(self,m):\n",
    "        assert self.is_unit_n(m), \"message is not a unit\"\n",
    "        return self.exp(m,self.e)\n",
    "    \n",
    "    def decrypt(self,c):\n",
    "        assert self.is_unit_n(c), \"ciphertext is not a unit\"\n",
    "        return self.exp(c,self.d)\n",
    "    \n",
    "    def non_triv_sqroot(self):\n",
    "        (d,t,s) = self.extended_gcd(self.p,self.q)\n",
    "        ntsq = (t*self.p-s*self.q)%self.n\n",
    "        assert (ntsq*ntsq)%self.n==1\n",
    "        return ntsq\n",
    "    \n",
    "    def factor_ntsq(self,ntsq):\n",
    "        (p1,s,t) = self.extended_gcd(ntsq+1,self.n)\n",
    "        (p2,s,t) = self.extended_gcd(ntsq-1,self.n)\n",
    "        return (p1,p2)\n",
    "    \n",
    "    def find_sq(self,a):\n",
    "        \n",
    "        def factor_twos(a):\n",
    "            s = 0\n",
    "            u = a\n",
    "            while u%2==0:\n",
    "                s += 1\n",
    "                u //= 2\n",
    "            return (s,u)\n",
    "        \n",
    "        (s,u) = factor_twos(self.d*self.e-1)\n",
    "        \n",
    "        if not self.is_unit_n(a):\n",
    "            return 0\n",
    "        \n",
    "        a = self.exp(a,u)\n",
    "        b = a\n",
    "        while a!=1:\n",
    "            b = a\n",
    "            a = self.exp(a,2)\n",
    "        return b\n",
    "        "
   ]
  },
  {
   "cell_type": "code",
   "execution_count": 16,
   "id": "99272374-9619-490a-8d17-0d2ca8fb204b",
   "metadata": {},
   "outputs": [
    {
     "name": "stdout",
     "output_type": "stream",
     "text": [
      "0\n",
      "1\n",
      "29\n",
      "29\n",
      "29\n",
      "0\n",
      "6\n",
      "0\n",
      "29\n",
      "29\n",
      "0\n",
      "1\n",
      "29\n",
      "29\n",
      "0\n",
      "0\n",
      "1\n",
      "29\n",
      "29\n",
      "34\n",
      "0\n",
      "0\n",
      "29\n",
      "29\n",
      "34\n",
      "0\n",
      "6\n",
      "29\n",
      "0\n",
      "29\n",
      "0\n",
      "6\n",
      "29\n",
      "29\n",
      "34\n"
     ]
    }
   ],
   "source": [
    "p = 5\n",
    "q = 7\n",
    "rsa = RSA(p,q)\n",
    "rsa.get_public_key()\n",
    "c = rsa.encrypt(9)\n",
    "\n",
    "for i in range(35):\n",
    "    print(rsa.find_sq(i))"
   ]
  },
  {
   "cell_type": "code",
   "execution_count": 20,
   "id": "b0e998b1-d274-4618-a40e-e0b814b5d0b2",
   "metadata": {},
   "outputs": [
    {
     "name": "stdout",
     "output_type": "stream",
     "text": [
      "6888\n",
      "(83, 97)\n"
     ]
    }
   ],
   "source": [
    "p97 = 97\n",
    "p83 = 83\n",
    "rsa = RSA(83,97)\n",
    "ntsq = rsa.non_triv_sqroot()\n",
    "print(ntsq)\n",
    "print(rsa.factor_ntsq(ntsq))"
   ]
  },
  {
   "cell_type": "code",
   "execution_count": 14,
   "id": "2c383915",
   "metadata": {},
   "outputs": [
    {
     "data": {
      "text/plain": [
       "1"
      ]
     },
     "execution_count": 14,
     "metadata": {},
     "output_type": "execute_result"
    }
   ],
   "source": [
    "ntsq = (6*97+7*83)%(97*83)\n",
    "(ntsq*ntsq)%(97*83)"
   ]
  },
  {
   "cell_type": "code",
   "execution_count": 24,
   "id": "19dc1434",
   "metadata": {},
   "outputs": [
    {
     "name": "stdout",
     "output_type": "stream",
     "text": [
      "5725\n"
     ]
    },
    {
     "data": {
      "text/plain": [
       "4"
      ]
     },
     "execution_count": 24,
     "metadata": {},
     "output_type": "execute_result"
    }
   ],
   "source": [
    "print(2*6888%(97*83))\n",
    "((2*6888)**2)%(97*83)"
   ]
  },
  {
   "cell_type": "code",
   "execution_count": null,
   "id": "c6f2b98d",
   "metadata": {},
   "outputs": [],
   "source": []
  }
 ],
 "metadata": {
  "kernelspec": {
   "display_name": "Python 3",
   "language": "python",
   "name": "python3"
  },
  "language_info": {
   "codemirror_mode": {
    "name": "ipython",
    "version": 3
   },
   "file_extension": ".py",
   "mimetype": "text/x-python",
   "name": "python",
   "nbconvert_exporter": "python",
   "pygments_lexer": "ipython3",
   "version": "3.8.10"
  }
 },
 "nbformat": 4,
 "nbformat_minor": 5
}
